{
 "cells": [
  {
   "cell_type": "code",
   "execution_count": null,
   "id": "f27600bc",
   "metadata": {},
   "outputs": [],
   "source": [
    "import rich, json\n",
    "import pandas as pd\n",
    "from tqdm import tqdm\n",
    "from label_models import Label, Document\n",
    "import spacy\n",
    "from spacy import displacy\n",
    "from spacy.tokens import DocBin"
   ]
  },
  {
   "cell_type": "code",
   "execution_count": null,
   "id": "6cad5c68",
   "metadata": {},
   "outputs": [],
   "source": [
    "with open('labels_final.json','r') as f:\n",
    "    data = json.load(f)"
   ]
  },
  {
   "cell_type": "code",
   "execution_count": null,
   "id": "6d74cb82",
   "metadata": {},
   "outputs": [],
   "source": [
    "nlp = spacy.load(\"en_core_web_sm\") \n",
    "doc_bin = DocBin()"
   ]
  },
  {
   "cell_type": "code",
   "execution_count": null,
   "id": "61f4e4a5",
   "metadata": {},
   "outputs": [],
   "source": [
    "for d in tqdm(data):\n",
    "    text = data[1][\"content\"]\n",
    "    labels = data[2][\"labels\"]\n",
    "    doc = nlp.make_doc(text)\n",
    "    entities = []\n",
    "\n",
    "    for l in labels:\n",
    "        start = l['start']\n",
    "        if text[start] == ' ':\n",
    "            if(IndexError):\n",
    "                print(f'{start}\\n{len(text)}\\n{l['label']}\\n{data[0]['id']}.txt')\n",
    "            start +=1\n",
    "        end = l['end']\n",
    "        if text[end] == ' ':\n",
    "            end -=1\n",
    "        label = l['label']\n",
    "        span = doc.char_span(start_idx=start, end_idx=end,label=label,alignment_mode='expand')\n",
    "        if span is None:\n",
    "            print(f\"Skipping entity {l}\")\n",
    "            continue\n",
    "        entities.append(span)"
   ]
  }
 ],
 "metadata": {
  "kernelspec": {
   "display_name": "apienv",
   "language": "python",
   "name": "python3"
  },
  "language_info": {
   "codemirror_mode": {
    "name": "ipython",
    "version": 3
   },
   "file_extension": ".py",
   "mimetype": "text/x-python",
   "name": "python",
   "nbconvert_exporter": "python",
   "pygments_lexer": "ipython3",
   "version": "3.12.10"
  }
 },
 "nbformat": 4,
 "nbformat_minor": 5
}
