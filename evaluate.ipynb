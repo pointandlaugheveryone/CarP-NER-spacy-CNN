{
 "cells": [
  {
   "cell_type": "code",
   "execution_count": 19,
   "id": "9988d76d",
   "metadata": {},
   "outputs": [],
   "source": [
    "from IPython.display import display as ipy_display\n",
    "from IPython.core.display import HTML\n",
    "import rich\n",
    "\n",
    "import spacy\n",
    "from spacy.tokens import DocBin\n",
    "from spacy.training import Example"
   ]
  },
  {
   "cell_type": "code",
   "execution_count": 2,
   "id": "4eb72f22",
   "metadata": {},
   "outputs": [],
   "source": [
    "nlp = spacy.load(f'spacy_outputs/model-last')"
   ]
  },
  {
   "cell_type": "code",
   "execution_count": null,
   "id": "e1e39ce0",
   "metadata": {},
   "outputs": [],
   "source": [
    "ruler = nlp.add_pipe(\"entity_ruler\").from_disk(\"patterns.jsonl\") # type: ignore"
   ]
  },
  {
   "cell_type": "code",
   "execution_count": null,
   "id": "c43b02cc",
   "metadata": {},
   "outputs": [],
   "source": [
    "with open('DATA/data_en/1.txt', 'r') as f:\n",
    "    text = f.read()\n",
    "\n",
    "doc = nlp(text)\n",
    "for e in doc.ents:\n",
    "    print(e.label_, e.text, e.start_char, e.end_char)"
   ]
  },
  {
   "cell_type": "code",
   "execution_count": null,
   "id": "1c28f46b",
   "metadata": {},
   "outputs": [
    {
     "name": "stdout",
     "output_type": "stream",
     "text": [
      "\n",
      "    precision: 0.53\")\n",
      "    recall: 1.00\")\n",
      "    F1: 0.69\")\n",
      "    per type performance: {'Soft Skill': {'p': 0.4743886743886744, 'r': 1.0, 'f': 0.6435055865921787}, 'Hard Skill': {'p': 0.5556795634920635, 'r': 1.0, 'f': 0.714388202471104}}\n"
     ]
    }
   ],
   "source": [
    "doc_bin = DocBin().from_disk('test.spacy')\n",
    "docs = list(doc_bin.get_docs(nlp.vocab))\n",
    "\n",
    "examples = []\n",
    "for doc in docs:\n",
    "    example = Example.from_dict(doc, {\"entities\": [(ent.start_char, ent.end_char, ent.label_) for ent in doc.ents]})\n",
    "    examples.append(example)\n",
    "\n",
    "results = nlp.evaluate(examples)\n",
    "print(f\"\"\"\n",
    "    precision: {results['ents_p']:.2f}\")\n",
    "    recall: {results['ents_r']:.2f}\")\n",
    "    F1: {results['ents_f']:.2f}\")\n",
    "    per type performance: {(r for r in results['ents_per_type'])}\"\"\"\n",
    ")"
   ]
  },
  {
   "cell_type": "code",
   "execution_count": 10,
   "id": "3861e653",
   "metadata": {},
   "outputs": [
    {
     "name": "stdout",
     "output_type": "stream",
     "text": [
      "\n",
      "    precision: 0.53\")\n",
      "    recall: 1.00\")\n",
      "    F1: 0.69\")\n",
      "    soft skill perf: {'p': 0.4743886743886744, 'r': 1.0, 'f': 0.6435055865921787}\n",
      "    hard skill perf: {'p': 0.5556795634920635, 'r': 1.0, 'f': 0.714388202471104}\n",
      "\n"
     ]
    }
   ],
   "source": [
    "print(f\"\"\"\n",
    "    precision: {results['ents_p']:.2f}\")\n",
    "    recall: {results['ents_r']:.2f}\")\n",
    "    F1: {results['ents_f']:.2f}\")\n",
    "    soft skill perf: {results['ents_per_type']['Soft Skill']}\n",
    "    hard skill perf: {results['ents_per_type']['Hard Skill']}\n",
    "\"\"\")"
   ]
  },
  {
   "cell_type": "code",
   "execution_count": 22,
   "id": "e68b4f37",
   "metadata": {},
   "outputs": [],
   "source": [
    "def render_ents(text, ents): # substitution for displacy not working\n",
    "    colors = {'Hard Skill': '#cfffdc','Soft Skill': '#68ba7f','Certification':'#253d2c'}\n",
    "    entities = sorted(ents, key=lambda x: x.start_char) # sort by spacy ent start index\n",
    "    rich.print(entities)\n",
    "    # build jupyter html \n",
    "    html = ''\n",
    "    last_idx = 0\n",
    "    for e in ents:\n",
    "        start, end, label = e.start_char, e.end_char, e.label_\n",
    "        html +=text[last_idx:start] # normal\n",
    "        html += f'<mark style=\"background-color: {colors[label]}\">{text[start:end]}</mark>'\n",
    "        last_idx = end\n",
    "    html += text[last_idx:]\n",
    "    display(HTML(html))"
   ]
  },
  {
   "cell_type": "code",
   "execution_count": 26,
   "id": "ba376715",
   "metadata": {},
   "outputs": [
    {
     "data": {
      "text/html": [
       "<pre style=\"white-space:pre;overflow-x:auto;line-height:normal;font-family:Menlo,'DejaVu Sans Mono',consolas,'Courier New',monospace\"><span style=\"font-weight: bold\">[</span>\n",
       "    EXCELLENCE,\n",
       "    operations,\n",
       "    quality control,\n",
       "    quality assurance,\n",
       "    management,\n",
       "    tenacity,\n",
       "    scheduling,\n",
       "    quality control,\n",
       "    Procurement,\n",
       "    value stream mapping,\n",
       "    strategic sourcing,\n",
       "    Lean manufacturing,\n",
       "    Cost reduction,\n",
       "    operations,\n",
       "    Relationship building,\n",
       "    Microsoft Office,\n",
       "    Productivity improvement,\n",
       "    problem solving,\n",
       "    Market penetration,\n",
       "    operations,\n",
       "    statistics,\n",
       "    customer satisfaction,\n",
       "    LEAN Manufacturing,\n",
       "    Printed Circuit Board,\n",
       "    Root Cause Analysis,\n",
       "    Pareto Chart,\n",
       "    Process Control,\n",
       "    Procurement,\n",
       "    Operations,\n",
       "    Technical,\n",
       "    operations,\n",
       "    operations,\n",
       "    planning,\n",
       "    LEAN Manufacturing,\n",
       "    Quality Control,\n",
       "    quality control,\n",
       "    operations,\n",
       "    operations,\n",
       "    quality control,\n",
       "    production schedules,\n",
       "    product quality,\n",
       "    lean manufacturing,\n",
       "    operational leadership,\n",
       "    cost controls,\n",
       "    workforce planning,\n",
       "    scheduling,\n",
       "    operational improvements,\n",
       "    quality control,\n",
       "    quality control,\n",
       "    environmental compliance,\n",
       "    cost control,\n",
       "    operations,\n",
       "    technical,\n",
       "    Aviation,\n",
       "    equipment maintenance,\n",
       "    Fuel systems,\n",
       "    fire prevention,\n",
       "    safety training,\n",
       "    Propulsion,\n",
       "    accountability,\n",
       "    punctuality,\n",
       "    Information Systems,\n",
       "    Management,\n",
       "    Information Systems,\n",
       "    Management,\n",
       "    Mandarin Chinese,\n",
       "    Desktop Publishing,\n",
       "    Microsoft Publisher,\n",
       "    Management,\n",
       "    NetSuite\n",
       "<span style=\"font-weight: bold\">]</span>\n",
       "</pre>\n"
      ],
      "text/plain": [
       "\u001b[1m[\u001b[0m\n",
       "    EXCELLENCE,\n",
       "    operations,\n",
       "    quality control,\n",
       "    quality assurance,\n",
       "    management,\n",
       "    tenacity,\n",
       "    scheduling,\n",
       "    quality control,\n",
       "    Procurement,\n",
       "    value stream mapping,\n",
       "    strategic sourcing,\n",
       "    Lean manufacturing,\n",
       "    Cost reduction,\n",
       "    operations,\n",
       "    Relationship building,\n",
       "    Microsoft Office,\n",
       "    Productivity improvement,\n",
       "    problem solving,\n",
       "    Market penetration,\n",
       "    operations,\n",
       "    statistics,\n",
       "    customer satisfaction,\n",
       "    LEAN Manufacturing,\n",
       "    Printed Circuit Board,\n",
       "    Root Cause Analysis,\n",
       "    Pareto Chart,\n",
       "    Process Control,\n",
       "    Procurement,\n",
       "    Operations,\n",
       "    Technical,\n",
       "    operations,\n",
       "    operations,\n",
       "    planning,\n",
       "    LEAN Manufacturing,\n",
       "    Quality Control,\n",
       "    quality control,\n",
       "    operations,\n",
       "    operations,\n",
       "    quality control,\n",
       "    production schedules,\n",
       "    product quality,\n",
       "    lean manufacturing,\n",
       "    operational leadership,\n",
       "    cost controls,\n",
       "    workforce planning,\n",
       "    scheduling,\n",
       "    operational improvements,\n",
       "    quality control,\n",
       "    quality control,\n",
       "    environmental compliance,\n",
       "    cost control,\n",
       "    operations,\n",
       "    technical,\n",
       "    Aviation,\n",
       "    equipment maintenance,\n",
       "    Fuel systems,\n",
       "    fire prevention,\n",
       "    safety training,\n",
       "    Propulsion,\n",
       "    accountability,\n",
       "    punctuality,\n",
       "    Information Systems,\n",
       "    Management,\n",
       "    Information Systems,\n",
       "    Management,\n",
       "    Mandarin Chinese,\n",
       "    Desktop Publishing,\n",
       "    Microsoft Publisher,\n",
       "    Management,\n",
       "    NetSuite\n",
       "\u001b[1m]\u001b[0m\n"
      ]
     },
     "metadata": {},
     "output_type": "display_data"
    },
    {
     "data": {
      "text/html": [
       "         PRODUCTION <mark style=\"background-color: #cfffdc\">EXCELLENCE</mark> SPECIALIST         Summary     Results-driven, skilled Quality Specialist focused on achieving success and increased productivity through improvements in quality, safety, <mark style=\"background-color: #68ba7f\">operations</mark>, and administration.  Knowledge and expertise in <mark style=\"background-color: #cfffdc\">quality control</mark>, <mark style=\"background-color: #68ba7f\">quality assurance</mark>, lean <mark style=\"background-color: #68ba7f\">management</mark>, Six Sigma, and techniques and methods for improving the efficiency process of an organizations quality procedure. Highly motivated with the aptitude and <mark style=\"background-color: #68ba7f\">tenacity</mark> to resolve challenging issues, and work productively with team members, and supervisors to accomplish the organizations future vision and goal.          Highlights          Experienced in production <mark style=\"background-color: #68ba7f\">scheduling</mark>  Knowledgeable of <mark style=\"background-color: #cfffdc\">quality control</mark> standards  <mark style=\"background-color: #cfffdc\">Procurement</mark> specialist  Knowledge of 5S methodology  Experience in <mark style=\"background-color: #cfffdc\">value stream mapping</mark>  Dedication to product quality  Global and <mark style=\"background-color: #cfffdc\">strategic sourcing</mark>  Procedure development  Client relationships  Quantifiable revenue increases        <mark style=\"background-color: #cfffdc\">Lean manufacturing</mark> and design  Analytical  <mark style=\"background-color: #cfffdc\">Cost reduction</mark> and containment  QA/QC/Audits reports expert  Multi-site <mark style=\"background-color: #68ba7f\">operations</mark>  Process improvement strategies  Systems implementation  <mark style=\"background-color: #cfffdc\">Relationship building</mark>  <mark style=\"background-color: #68ba7f\">Microsoft Office</mark> Suite expert  <mark style=\"background-color: #cfffdc\">Productivity improvement</mark> specialist  Troubleshooting and <mark style=\"background-color: #68ba7f\">problem solving</mark>  <mark style=\"background-color: #cfffdc\">Market penetration</mark>            Accomplishments     Planned, directed, coordinated and assigned 14 employers to efficiently meet production requirements.  Contributed to an annual 25% increase in productivity through improvements in <mark style=\"background-color: #68ba7f\">operations</mark>, quality, safety and administration.  Supervised and managed 14 inspectors through out 20 manufacturing factories.   Created critical KPIs to track and improve on-time delivery, customer issues and safety <mark style=\"background-color: #cfffdc\">statistics</mark>.  Boosted <mark style=\"background-color: #cfffdc\">customer satisfaction</mark> ratings by 100% in under 16 moths months.  Personally managed production activities to guarantee  100% of orders were shipped on-time .                Experience      Company Name     October 2015   to   January 2016     Production Excellence Specialist   City        Knowledge and use of Operational Equipment Efficiency (OEE) in PCB manufacturing environment.  Expertise and proficiency in <mark style=\"background-color: #cfffdc\">LEAN Manufacturing</mark> and Six Sigma Methodologies to identify direct and analyze machine group cells for <mark style=\"background-color: #cfffdc\">Printed Circuit Board</mark> (PCB) and electromechanical components.  Development and optimization of OEE reports, Standard Operating Procedures (SOP), process Protocols, guidelines.  Understanding and comprehension of the following tools: <mark style=\"background-color: #cfffdc\">Root Cause Analysis</mark>, Value Stream Map, Process Map, <mark style=\"background-color: #cfffdc\">Pareto Chart</mark>, Kaizen, 7 Wastes, and Statistical <mark style=\"background-color: #cfffdc\">Process Control</mark>.          Company Name     February 2014   to   September 2015     <mark style=\"background-color: #cfffdc\">Procurement</mark> and <mark style=\"background-color: #68ba7f\">Operations</mark> Manager   City        Developed, updated and maintained SOPs, Client Guidelines, HR and <mark style=\"background-color: #cfffdc\">Technical</mark> Manuals and Protocols for Insight Company Managed professionally 14 employees for Insight Quality Services Asian <mark style=\"background-color: #68ba7f\">operations</mark> and accountable for implementation of strategic objectives, developing <mark style=\"background-color: #68ba7f\">operations</mark> strategy, <mark style=\"background-color: #68ba7f\">planning</mark> production services and client communication Best practices and knowledge of <mark style=\"background-color: #cfffdc\">LEAN Manufacturing</mark> systematic methods and tools to reduce waste and increase quality efficiency in Chinese manufacturing factories Successfully assisted clients on <mark style=\"background-color: #cfffdc\">Quality Control</mark> improvements and manufacturing challenges Conducted <mark style=\"background-color: #cfffdc\">quality control</mark> inspections all over China and supervised 14 inspectors conducing inspections for Jewelry and Electronic products.  Assessed and trained personnel for promotion to cross-functional <mark style=\"background-color: #68ba7f\">operations</mark>.  Led regular stand-up meetings, events and continuous improvement projects with measurable goals.  Developed and implemented data-based solutions in a timely manner.  Assessed and trained personnel for promotion to cross-functional <mark style=\"background-color: #68ba7f\">operations</mark>.  Coordinated closely with <mark style=\"background-color: #cfffdc\">quality control</mark> regarding products awaiting dispositions.  Supervised <mark style=\"background-color: #cfffdc\">production schedules</mark>, production quality and on time delivery.  Defined manufacturing performance standards and reviewed the performance outcomes to set future targets.Identified staffing and capital needs, collected relevant data and wrote justifications for established needs.  Diligently maintained safety and quality standards.  Implemented root cause and corrective actions to remove production constraints and improve <mark style=\"background-color: #cfffdc\">product quality</mark>.  Enforced a culture of <mark style=\"background-color: #cfffdc\">lean manufacturing</mark> and continuous improvement while providing <mark style=\"background-color: #cfffdc\">operational leadership</mark>.  Reviewed production orders, schedules, delivery dates and inventory levels to determine product availability.  Trained, developed and counseled employees to develop a high performing team.Completed key projects on time, on budget and with a high level of accuracy.  Budgeted monthly departmental expenses and implemented <mark style=\"background-color: #cfffdc\">cost controls</mark>.  Developed and maintained strong and clear communication and rapport with plant personnel.  Created <mark style=\"background-color: #cfffdc\">workforce planning</mark> and development models to inform quarterly <mark style=\"background-color: #68ba7f\">scheduling</mark> and processes.          Company Name     September 2013   to   January 2014     Internal Production Auditor   City        Actively suggested <mark style=\"background-color: #cfffdc\">operational improvements</mark> to enhance quality, improve production times and reduce costs.  Helped achieve company goals by supporting production workers.  Developed production tracking and <mark style=\"background-color: #cfffdc\">quality control</mark> systems, analyzing production, <mark style=\"background-color: #cfffdc\">quality control</mark>, maintenance and other operational reports, to detect production problems.  Inspected finished products for quality and adherence to customer specifications.  Monitored and adjusted production processes or equipment for quality and productivity.  Monitored the production processes and adjusted schedules.  Adhered to all applicable regulations, policies and procedures for health, safety and <mark style=\"background-color: #cfffdc\">environmental compliance</mark>.  Coordinated inventory and <mark style=\"background-color: #cfffdc\">cost control</mark> programs.  Worked with managers to implement the company's policies and goals.  Reviewed <mark style=\"background-color: #68ba7f\">operations</mark> and conferred with <mark style=\"background-color: #cfffdc\">technical</mark> or administrative staff to resolve production and processing problems.          Company Name     October 2006   to   December 2012     <mark style=\"background-color: #cfffdc\">Aviation</mark> Boatswains Fuels Technician   City  ,   State      Successfully trained 54 personnel in QA protocols, <mark style=\"background-color: #cfffdc\">equipment maintenance</mark>, MSDS and SOPs for Fuels evolutions.  Effective decision-maker in high-pressure environments.  Supervised operation and organizational maintenance of JP5 <mark style=\"background-color: #cfffdc\">Fuel systems</mark> and specialized equipment.  Completed multiple <mark style=\"background-color: #cfffdc\">fire prevention</mark> <mark style=\"background-color: #cfffdc\">safety training</mark>.  Effectively tested 1,140,198 gallons of Jet <mark style=\"background-color: #cfffdc\">Propulsion</mark> Fuel during two Persian Gulf Pacific Deployments.  Excellent personal <mark style=\"background-color: #68ba7f\">accountability</mark> and <mark style=\"background-color: #68ba7f\">punctuality</mark> with \"zero\" issues for the entire military term.          Education      University of Maryland University College     2002       Bachelor of Science  :   <mark style=\"background-color: #cfffdc\">Information Systems</mark> <mark style=\"background-color: #68ba7f\">Management</mark>    <mark style=\"background-color: #cfffdc\">Information Systems</mark> <mark style=\"background-color: #68ba7f\">Management</mark>        Languages     English - Fluent (Read, Write and Speak)   Spanish - Fluent (Read, Write and Speak)   <mark style=\"background-color: #68ba7f\">Mandarin Chinese</mark> - Basic Conversational (Speak)   German - Basic Conversational (Speak)       Skills     Client Relations Software: Dynamics CRM  <mark style=\"background-color: #cfffdc\">Desktop Publishing</mark> Software: Photoshop, Illustrator  Microsoft: MS Access, MS Excel, MS Outlook, MS Power Point, <mark style=\"background-color: #cfffdc\">Microsoft Publisher</mark>, MS Word  Business <mark style=\"background-color: #68ba7f\">Management</mark> Software: ERP - <mark style=\"background-color: #cfffdc\">NetSuite</mark>       "
      ],
      "text/plain": [
       "<IPython.core.display.HTML object>"
      ]
     },
     "metadata": {},
     "output_type": "display_data"
    }
   ],
   "source": [
    "render_ents(text,doc.ents)"
   ]
  }
 ],
 "metadata": {
  "kernelspec": {
   "display_name": "ner-env",
   "language": "python",
   "name": "python3"
  },
  "language_info": {
   "codemirror_mode": {
    "name": "ipython",
    "version": 3
   },
   "file_extension": ".py",
   "mimetype": "text/x-python",
   "name": "python",
   "nbconvert_exporter": "python",
   "pygments_lexer": "ipython3",
   "version": "3.13.5"
  }
 },
 "nbformat": 4,
 "nbformat_minor": 5
}
