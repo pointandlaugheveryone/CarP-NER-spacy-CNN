{
 "cells": [
  {
   "cell_type": "code",
   "execution_count": null,
   "id": "92620ac1",
   "metadata": {},
   "outputs": [],
   "source": [
    "%pip install -U pip setuptools wheel\n",
    "%pip install -U spacy\n",
    "!python -m spacy download en_core_web_sm"
   ]
  },
  {
   "cell_type": "code",
   "execution_count": 3,
   "id": "f27600bc",
   "metadata": {},
   "outputs": [],
   "source": [
    "import rich, json\n",
    "import spacy\n",
    "from spacy.tokens import DocBin\n",
    "import os"
   ]
  },
  {
   "cell_type": "code",
   "execution_count": 4,
   "id": "6cad5c68",
   "metadata": {},
   "outputs": [],
   "source": [
    "with open(f'{os.getcwd()}/labels_en.json','r') as f:\n",
    "    data = json.loads(f.read())"
   ]
  },
  {
   "cell_type": "code",
   "execution_count": 5,
   "id": "6d74cb82",
   "metadata": {},
   "outputs": [
    {
     "name": "stderr",
     "output_type": "stream",
     "text": [
      "/home/ronji/repos/ner-api/apienv/lib/python3.12/site-packages/tqdm/auto.py:21: TqdmWarning: IProgress not found. Please update jupyter and ipywidgets. See https://ipywidgets.readthedocs.io/en/stable/user_install.html\n",
      "  from .autonotebook import tqdm as notebook_tqdm\n"
     ]
    }
   ],
   "source": [
    "nlp = spacy.load(\"en_core_web_sm\") \n",
    "doc_bin = DocBin()"
   ]
  },
  {
   "cell_type": "code",
   "execution_count": 7,
   "id": "c13ffc09",
   "metadata": {},
   "outputs": [
    {
     "name": "stdout",
     "output_type": "stream",
     "text": [
      "0 0 0\n"
     ]
    }
   ],
   "source": [
    "def has_overlap(span1, span2):\n",
    "    return not (span1.end <= span2.start or span2.end <= span1.start)\n",
    "\n",
    "overlap_count = 0\n",
    "empty_count = 0\n",
    "ent_count = 0\n",
    "db = DocBin()\n",
    "for d in data:\n",
    "    debug_id,text,labels = d[\"id\"],d[\"content\"],d[\"labels\"]\n",
    "    doc = nlp(text)\n",
    "    ents = []\n",
    "    for l in labels:\n",
    "        start, end, label, value = l[\"start\"], l[\"end\"], l[\"label\"], l[\"value\"]\n",
    "        span = doc.char_span(start, end, label=label, alignment_mode='expand')\n",
    "        if span is None:\n",
    "            empty_count +=1\n",
    "            continue\n",
    "        if any(has_overlap(span, existing_span) for existing_span in ents):\n",
    "            overlap_count +=1\n",
    "            continue\n",
    "        ents.append(span)\n",
    "        ent_count += len(ents)\n",
    "    doc.ents = ents \n",
    "    db.add(doc) \n",
    "print(ent_count,overlap_count, empty_count)\n",
    "db.to_disk(\"train.spacy\")"
   ]
  },
  {
   "cell_type": "code",
   "execution_count": null,
   "id": "0b0dfcb5",
   "metadata": {},
   "outputs": [],
   "source": [
    "! python -m spacy init config config.cfg --lang en --pipeline ner --optimize efficiency --force"
   ]
  },
  {
   "cell_type": "code",
   "execution_count": null,
   "id": "6fef6ab6",
   "metadata": {},
   "outputs": [],
   "source": [
    "! python -m spacy train config.cfg --output ./ --paths.train ./train.spacy --paths.dev ./train.spacy"
   ]
  }
 ],
 "metadata": {
  "kernelspec": {
   "display_name": "apienv",
   "language": "python",
   "name": "python3"
  },
  "language_info": {
   "codemirror_mode": {
    "name": "ipython",
    "version": 3
   },
   "file_extension": ".py",
   "mimetype": "text/x-python",
   "name": "python",
   "nbconvert_exporter": "python",
   "pygments_lexer": "ipython3",
   "version": "3.12.10"
  }
 },
 "nbformat": 4,
 "nbformat_minor": 5
}
