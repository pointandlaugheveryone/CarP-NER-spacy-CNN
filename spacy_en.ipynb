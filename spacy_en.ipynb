{
 "cells": [
  {
   "cell_type": "code",
   "execution_count": null,
   "id": "92620ac1",
   "metadata": {},
   "outputs": [],
   "source": [
    "%pip install -U pip setuptools wheel\n",
    "%pip install -U spacy\n",
    "!python -m spacy download en_core_web_sm"
   ]
  },
  {
   "cell_type": "code",
   "execution_count": 2,
   "id": "f27600bc",
   "metadata": {},
   "outputs": [],
   "source": [
    "import rich, json\n",
    "import pandas as pd\n",
    "from tqdm import tqdm\n",
    "import spacy\n",
    "from spacy import displacy, tokens\n",
    "from spacy.tokens import DocBin\n",
    "import os"
   ]
  },
  {
   "cell_type": "code",
   "execution_count": null,
   "id": "6cad5c68",
   "metadata": {},
   "outputs": [],
   "source": [
    "with open(f'{os.getcwd()}/labels_en.json','r') as f:\n",
    "    data = json.load(f)"
   ]
  },
  {
   "cell_type": "code",
   "execution_count": 4,
   "id": "6d74cb82",
   "metadata": {},
   "outputs": [],
   "source": [
    "nlp = spacy.load(\"en_core_web_sm\") \n",
    "doc_bin = DocBin()"
   ]
  },
  {
   "cell_type": "code",
   "execution_count": null,
   "id": "c13ffc09",
   "metadata": {},
   "outputs": [],
   "source": [
    "i = 0\n",
    "for d in tqdm(data):\n",
    "    text = data[i][\"content\"]\n",
    "    labels = data[i][\"labels\"]\n",
    "    doc = nlp.make_doc(text)\n",
    "\n",
    "    spans = []\n",
    "    for l in labels:\n",
    "        #TODO\n",
    "\n",
    "    doc.set_ents(spans)\n",
    "    doc_bin.add(doc)\n",
    "    i += 1\n",
    "\n",
    "doc_bin.to_disk(\"train.spacy\")"
   ]
  }
 ],
 "metadata": {
  "kernelspec": {
   "display_name": "apienv",
   "language": "python",
   "name": "python3"
  },
  "language_info": {
   "codemirror_mode": {
    "name": "ipython",
    "version": 3
   },
   "file_extension": ".py",
   "mimetype": "text/x-python",
   "name": "python",
   "nbconvert_exporter": "python",
   "pygments_lexer": "ipython3",
   "version": "3.12.10"
  }
 },
 "nbformat": 4,
 "nbformat_minor": 5
}
