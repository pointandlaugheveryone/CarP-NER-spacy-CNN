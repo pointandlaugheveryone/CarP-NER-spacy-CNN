{
 "cells": [
  {
   "cell_type": "markdown",
   "id": "6c7ed56c",
   "metadata": {},
   "source": [
    " Testing output from an api run\n"
   ]
  },
  {
   "cell_type": "code",
   "execution_count": 1,
   "id": "81cc4633",
   "metadata": {},
   "outputs": [],
   "source": [
    "from models.data_models import Entity, Labels\n",
    "import rich, json, re\n",
    "from tqdm import tqdm\n",
    "from openai import AzureOpenAI\n",
    "import azure.keyvault.secrets as azk\n",
    "from azure.identity import DefaultAzureCredential\n",
    "import os, asyncio\n",
    "from openai_api import *"
   ]
  },
  {
   "cell_type": "code",
   "execution_count": null,
   "id": "79ee3c61",
   "metadata": {},
   "outputs": [],
   "source": [
    "def clean(text):\n",
    "    text = text.strip().replace(\"\\n\", \" \").replace(\"\\r\", \"\").replace(\"\\t\", \" \")\n",
    "    text = re.sub('\\\\s+', ' ', text)\n",
    "    return text"
   ]
  },
  {
   "cell_type": "code",
   "execution_count": null,
   "id": "e0eed8c7",
   "metadata": {},
   "outputs": [],
   "source": [
    "resumes = []\n",
    "\n",
    "for file in tqdm(os.listdir(f'{os.getcwd()}/DATA/data_en')):\n",
    "    with open(f'{os.getcwd()}/DATA/data_en/{file}','r') as f:\n",
    "        contents = clean(f.read())\n",
    "        resumes.append(contents)\n",
    "\n",
    "with open('resumes.json','x') as j:\n",
    "    j.write(json.dumps(resumes,indent=4,ensure_ascii=False))\n",
    "        "
   ]
  },
  {
   "cell_type": "code",
   "execution_count": 2,
   "id": "c3754fab",
   "metadata": {},
   "outputs": [],
   "source": [
    "with open('resumes.json','r') as f:\n",
    "    resumes = json.loads(f.read())"
   ]
  },
  {
   "cell_type": "code",
   "execution_count": null,
   "id": "a39761c5",
   "metadata": {},
   "outputs": [],
   "source": [
    "labeled_resumes = []\n",
    "\n",
    "for i in tqdm(range(len(resumes))):\n",
    "    text = resumes[i]\n",
    "    api_labels = await send_request(text)\n",
    "\n",
    "    labels = []\n",
    "    for l in api_labels or []:\n",
    "        label = l['type']\n",
    "        content = l['text']\n",
    "        start = text.find(content)\n",
    "        if start == -1:\n",
    "            continue\n",
    "        end = start + len(content)\n",
    "        labels.append(Label(start,end,label,content).to_dict())\n",
    "\n",
    "    doc = Document(i,text,labels).to_dict()\n",
    "    labeled_resumes.append(doc)"
   ]
  },
  {
   "cell_type": "code",
   "execution_count": null,
   "id": "80582e86",
   "metadata": {},
   "outputs": [],
   "source": [
    "with open('labeled_resumes.json','x') as j:\n",
    "    j.write(json.dumps(labeled_resumes, indent=4,ensure_ascii=False))"
   ]
  },
  {
   "cell_type": "code",
   "execution_count": null,
   "id": "275a546d",
   "metadata": {},
   "outputs": [],
   "source": [
    "obj = await send_request(f'{os.getcwd()}/DATA/data_cs/1.txt')\n",
    "contents = obj[0].replace(\"\\n\", \" \").replace(\"\\t\", \" \").replace(\"\\r\", \" \") # type: ignore\n",
    "labels = obj[1] # type: ignore\n",
    "rich.print(obj)"
   ]
  },
  {
   "cell_type": "code",
   "execution_count": null,
   "id": "d949738c",
   "metadata": {},
   "outputs": [],
   "source": [
    "from models.label_models import Label, Document"
   ]
  },
  {
   "cell_type": "code",
   "execution_count": null,
   "id": "27264a75",
   "metadata": {},
   "outputs": [],
   "source": [
    "import json\n",
    "\n",
    "\n",
    "def check_duplicates(file_path):\n",
    "    with open(file_path, 'r') as f:\n",
    "        data = json.load(f)\n",
    "    \n",
    "    label_count = 0\n",
    "    dupl_count = 0\n",
    "    for entry in data:\n",
    "\n",
    "        if \"labels\" in entry and isinstance(entry[\"labels\"], list):\n",
    "            labels = entry[\"labels\"]\n",
    "            seen = set()\n",
    "            duplicates = []\n",
    "            \n",
    "            for label in labels:\n",
    "                label_count += 1\n",
    "                label_tuple = tuple(label.items())  # Convert dict to tuple for hashable comparison\n",
    "                if label_tuple in seen:\n",
    "                    duplicates.append(label)\n",
    "                else:\n",
    "                    seen.add(label_tuple)\n",
    "            \n",
    "            if duplicates:\n",
    "                dupl_count += len(duplicates)\n",
    "                #for duplicate in duplicates: print(duplicate)\n",
    "    print(dupl_count, label_count)\n",
    "\n",
    "\n",
    "check_duplicates(f'{os.getcwd()}/labels_en.json')\n"
   ]
  },
  {
   "cell_type": "code",
   "execution_count": null,
   "id": "3082f661",
   "metadata": {},
   "outputs": [],
   "source": [
    "def format_entities(doc_contents:str,labels_list:list,doc_id:int=0):\n",
    "    doc = doc_contents.replace(\"\\n\", \" \").replace(\"\\t\", \" \").replace(\"\\r\", \" \")\n",
    "    entities = labels_list\n",
    "    labeled_ents = []\n",
    "    for entity in entities:\n",
    "        content = entity['text']\n",
    "        label = entity['type']\n",
    "        if content not in doc_contents:\n",
    "            continue\n",
    "        else:\n",
    "            start = doc_contents.find(content)\n",
    "            end = start + len(content)\n",
    "            labeled_ent = Label(start,end,label,content).to_dict()\n",
    "            labeled_ents.append(labeled_ent)\n",
    "    labeled_doc = Document(doc_id,doc_contents, labeled_ents).to_dict()\n",
    "    return labeled_doc\n",
    "\n",
    "\n"
   ]
  },
  {
   "cell_type": "code",
   "execution_count": null,
   "id": "1f50ef46",
   "metadata": {},
   "outputs": [],
   "source": [
    "jsonfile = json.dumps(new_data, indent=4)\n",
    "with open('labels_en.json', 'w') as j:\n",
    "    j.write(jsonfile)"
   ]
  },
  {
   "cell_type": "code",
   "execution_count": null,
   "id": "71ed76f8",
   "metadata": {},
   "outputs": [],
   "source": [
    "check_duplicates('labels_en.json')"
   ]
  },
  {
   "cell_type": "markdown",
   "id": "3ea9f537",
   "metadata": {},
   "source": [
    "# openai calls\n",
    "```\n",
    "async def main():\n",
    "    labeled_docs = []\n",
    "    for i in range(1,2456):\n",
    "        label_obj = await send_request(f'{os.getcwd()}/data_src/{i}.txt')\n",
    "        contents = label_obj[0] # type: ignore\n",
    "        labels: list = label_obj[1]  # type: ignore\n",
    "        formatted_labels = format_entities(contents,labels,i)\n",
    "        labeled_docs.append(formatted_labels)\n",
    "    with open(f'{os.getcwd()}/labels_en.json', 'w') as jsonfile:\n",
    "        jsonfile.write(json.dumps(labeled_docs))\n",
    "        \n",
    "\n",
    "    for i in range(1,572):\n",
    "        label_obj = await send_request(f'{os.getcwd()}/data_cs/{i}.txt')\n",
    "        contents = label_obj[0] # type: ignore\n",
    "        labels: list = label_obj[1]  # type: ignore\n",
    "        formatted_labels = format_entities(contents,labels,i)\n",
    "        labeled_docs.append(formatted_labels)\n",
    "        if i % 10 == 0:\n",
    "            with open(f'{os.getcwd()}/labels_to_{i}.json', 'w') as jsonfile:\n",
    "                jsonfile.write(json.dumps(labeled_docs))\n",
    "    with open(f'{os.getcwd()}/data_cs/labels_czech.json', 'w') as jsonfile:\n",
    "        jsonfile.write(json.dumps(labeled_docs))\n",
    "```"
   ]
  },
  {
   "cell_type": "markdown",
   "id": "4debc452",
   "metadata": {},
   "source": [
    "# from colab"
   ]
  },
  {
   "cell_type": "code",
   "execution_count": null,
   "id": "bb60bab4",
   "metadata": {},
   "outputs": [],
   "source": [
    "duplicate_count = 0\n",
    "train = []\n",
    "train_json = [] # TODO:learn how to write json hooks\n",
    "for d in train_raw:\n",
    "  debug_id,text,labels = d[\"id\"],d[\"content\"],d[\"labels\"]\n",
    "  unique_labels = []\n",
    "  labels_json = []\n",
    "  existing_labels = set()\n",
    "  for l in labels:\n",
    "    start, end, label, value = l[\"start\"], l[\"end\"], l[\"label\"], l[\"value\"]\n",
    "    label_tuple = tuple(label)  # tuple conversion for hashable comparison\n",
    "    if label_tuple in existing_labels:\n",
    "      duplicate_count +=1\n",
    "      continue;\n",
    "    else:\n",
    "      unique_labels.append(Label(start,end,label,value))\n",
    "      labels_json.append(Label(start,end,label,value).to_dict()) # ! to_dict is not a built in \n",
    "  train.append(Document(debug_id, text, unique_labels))\n",
    "  train_json.append(Document(debug_id, text, labels_json).to_dict())\n",
    "\n",
    "print(duplicate_count)\n",
    "with open('test_labels.json', 'w') as f:\n",
    "    json.dump(train_json, f, indent=2)"
   ]
  },
  {
   "cell_type": "code",
   "execution_count": null,
   "id": "b0d83210",
   "metadata": {},
   "outputs": [],
   "source": [
    "test = []\n",
    "for d in test_raw:\n",
    "  debug_id,text,labels = d[\"id\"],d[\"content\"],d[\"labels\"]\n",
    "  labels0 = []\n",
    "  for l in labels:\n",
    "    start, end, label, value = l[\"start\"], l[\"end\"], l[\"label\"], l[\"value\"]\n",
    "    labels0.append(Label(start,end,label,value))\n",
    "  test.append(Document(debug_id, text, labels0))"
   ]
  }
 ],
 "metadata": {
  "kernelspec": {
   "display_name": "apienv",
   "language": "python",
   "name": "python3"
  },
  "language_info": {
   "codemirror_mode": {
    "name": "ipython",
    "version": 3
   },
   "file_extension": ".py",
   "mimetype": "text/x-python",
   "name": "python",
   "nbconvert_exporter": "python",
   "pygments_lexer": "ipython3",
   "version": "3.12.10"
  }
 },
 "nbformat": 4,
 "nbformat_minor": 5
}
