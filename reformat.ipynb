{
 "cells": [
  {
   "cell_type": "code",
   "execution_count": null,
   "id": "4c91957c",
   "metadata": {},
   "outputs": [
    {
     "data": {
      "text/plain": [
       "<module 'models.labelstudio_doc' from '/home/ronji/repos/CarP/ner-spacy-v2/models/labelstudio_doc.py'>"
      ]
     },
     "execution_count": 17,
     "metadata": {},
     "output_type": "execute_result"
    }
   ],
   "source": [
    "import importlib\n",
    "import models.labelstudio_models\n",
    "importlib.reload(models.labelstudio_models)"
   ]
  },
  {
   "cell_type": "code",
   "execution_count": null,
   "id": "2baed2a8",
   "metadata": {},
   "outputs": [],
   "source": [
    "from models.labelstudio_models import Data,Value,Result,Prediction,Document\n",
    "import json\n",
    "from pydantic import BaseModel"
   ]
  },
  {
   "cell_type": "code",
   "execution_count": 19,
   "id": "9c96061d",
   "metadata": {},
   "outputs": [],
   "source": [
    "with open('cleaned_resumes.json','r') as j:\n",
    "    labeled_resumes = json.loads(j.read())"
   ]
  },
  {
   "cell_type": "code",
   "execution_count": 21,
   "id": "a748491a",
   "metadata": {},
   "outputs": [],
   "source": [
    "documents = []\n",
    "\n",
    "for r in labeled_resumes:\n",
    "    name, text, labels = r['id'], r['content'], r['labels']\n",
    "    \n",
    "    results = []\n",
    "    for l in labels:\n",
    "        start, end, label, value = l[\"start\"], l[\"end\"], l[\"label\"], l[\"value\"]\n",
    "        results.append(Result.create(start, end, label, value))\n",
    "    \n",
    "    documents.append(Document.create(text, results).model_dump())\n",
    "    \n",
    "with open('export_labelstudio.json', 'w') as f:\n",
    " \n",
    "    f.write(json.dumps(documents))"
   ]
  }
 ],
 "metadata": {
  "kernelspec": {
   "display_name": "ner-env",
   "language": "python",
   "name": "python3"
  },
  "language_info": {
   "codemirror_mode": {
    "name": "ipython",
    "version": 3
   },
   "file_extension": ".py",
   "mimetype": "text/x-python",
   "name": "python",
   "nbconvert_exporter": "python",
   "pygments_lexer": "ipython3",
   "version": "3.13.5"
  }
 },
 "nbformat": 4,
 "nbformat_minor": 5
}
