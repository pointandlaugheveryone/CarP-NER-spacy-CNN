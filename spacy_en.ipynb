{
 "cells": [
  {
   "cell_type": "code",
   "execution_count": null,
   "id": "92620ac1",
   "metadata": {},
   "outputs": [],
   "source": [
    "%pip install -U pip setuptools wheel\n",
    "%pip install -U spacy\n",
    "!python -m spacy download en_core_web_sm"
   ]
  },
  {
   "cell_type": "code",
   "execution_count": 2,
   "id": "f27600bc",
   "metadata": {},
   "outputs": [],
   "source": [
    "import rich, json\n",
    "import spacy\n",
    "from spacy import displacy, tokens\n",
    "from spacy.tokens import DocBin\n",
    "import os"
   ]
  },
  {
   "cell_type": "code",
   "execution_count": 3,
   "id": "6cad5c68",
   "metadata": {},
   "outputs": [],
   "source": [
    "with open(f'{os.getcwd()}/labels_en2.json','r') as f:\n",
    "    data = json.loads(f.read())"
   ]
  },
  {
   "cell_type": "code",
   "execution_count": 4,
   "id": "6d74cb82",
   "metadata": {},
   "outputs": [],
   "source": [
    "nlp = spacy.load(\"en_core_web_sm\") \n",
    "doc_bin = DocBin()"
   ]
  },
  {
   "cell_type": "code",
   "execution_count": null,
   "id": "c13ffc09",
   "metadata": {},
   "outputs": [],
   "source": [
    "def has_overlap(span1, span2):\n",
    "    return not (span1.end <= span2.start or span2.end <= span1.start)\n",
    "\n",
    "overlap_count = 0\n",
    "empty_count = 0\n",
    "ent_count = 0\n",
    "db = DocBin()\n",
    "for d in data:\n",
    "    debug_id = d[\"id\"]\n",
    "    text = d[\"content\"]\n",
    "    labels = d[\"labels\"]\n",
    "    doc = nlp(text)\n",
    "    ents = []\n",
    "    for l in labels:\n",
    "        start, end, label, value = l[\"start\"], l[\"end\"], l[\"label\"], l[\"value\"]\n",
    "        span = doc.char_span(start, end, label=label, alignment_mode='expand')\n",
    "        if span is None:\n",
    "            empty_count +=1\n",
    "            continue\n",
    "        if any(has_overlap(span, existing_span) for existing_span in ents):\n",
    "            overlap_count +=1\n",
    "            continue\n",
    "        ents.append(span)\n",
    "        ent_count += len(ents)\n",
    "    doc.ents = ents \n",
    "    db.add(doc) \n",
    "print(ent_count,overlap_count, empty_count)\n",
    "db.to_disk(\"train.spacy\")"
   ]
  }
 ],
 "metadata": {
  "kernelspec": {
   "display_name": "apienv",
   "language": "python",
   "name": "python3"
  },
  "language_info": {
   "codemirror_mode": {
    "name": "ipython",
    "version": 3
   },
   "file_extension": ".py",
   "mimetype": "text/x-python",
   "name": "python",
   "nbconvert_exporter": "python",
   "pygments_lexer": "ipython3",
   "version": "3.12.10"
  }
 },
 "nbformat": 4,
 "nbformat_minor": 5
}
